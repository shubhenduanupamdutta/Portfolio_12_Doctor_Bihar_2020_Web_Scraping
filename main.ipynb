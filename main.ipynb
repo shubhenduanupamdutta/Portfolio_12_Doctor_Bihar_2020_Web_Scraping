{
 "cells": [
  {
   "cell_type": "markdown",
   "id": "8f0529f827952ff",
   "metadata": {
    "collapsed": false
   },
   "source": [
    "## Writing this program in ipython notebook, since it is easy to visualize the results and stop after a step with data in memory.."
   ]
  },
  {
   "cell_type": "markdown",
   "id": "cff884c22928eabd",
   "metadata": {
    "collapsed": false
   },
   "source": [
    "### Importing necessary modules"
   ]
  },
  {
   "cell_type": "code",
   "execution_count": null,
   "id": "c849a4560aa5f2cb",
   "metadata": {
    "collapsed": false
   },
   "outputs": [],
   "source": [
    "import time\n",
    "from selenium import webdriver\n",
    "from selenium.webdriver.chrome.service import Service\n",
    "from webdriver_manager.chrome import ChromeDriverManager\n",
    "from selenium.webdriver.common.by import By\n",
    "from selenium.webdriver.support.select import Select\n",
    "import pandas as pd\n",
    "from io import StringIO"
   ]
  },
  {
   "cell_type": "markdown",
   "id": "9c9a5c78286b98e6",
   "metadata": {
    "collapsed": false
   },
   "source": [
    "## URL for indian medical register"
   ]
  },
  {
   "cell_type": "code",
   "execution_count": null,
   "id": "cb468dd8d6ad0fdc",
   "metadata": {
    "collapsed": false
   },
   "outputs": [],
   "source": [
    "url = \"https://www.nmc.org.in/information-desk/indian-medical-register/\""
   ]
  },
  {
   "cell_type": "markdown",
   "id": "29ce28bc168d2700",
   "metadata": {
    "collapsed": false
   },
   "source": [
    "### Starting the driver"
   ]
  },
  {
   "cell_type": "code",
   "execution_count": null,
   "id": "a2f53d79958a322c",
   "metadata": {
    "collapsed": false
   },
   "outputs": [],
   "source": [
    "service = Service(ChromeDriverManager().install())\n",
    "driver = webdriver.Chrome(service=service)\n",
    "driver.get(url)\n",
    "driver.maximize_window()"
   ]
  },
  {
   "cell_type": "markdown",
   "id": "213b845e1bf1291c",
   "metadata": {
    "collapsed": false
   },
   "source": [
    "### Getting the table containing doctors name and data"
   ]
  },
  {
   "cell_type": "markdown",
   "source": [
    "#### Selecting year"
   ],
   "metadata": {
    "collapsed": false
   },
   "id": "7d0e4ba9c409a9bf"
  },
  {
   "cell_type": "code",
   "execution_count": 2,
   "id": "e97702744c4f8a31",
   "metadata": {
    "collapsed": false,
    "ExecuteTime": {
     "end_time": "2023-10-05T14:18:19.284242500Z",
     "start_time": "2023-10-05T14:18:18.554007500Z"
    }
   },
   "outputs": [
    {
     "ename": "NameError",
     "evalue": "name 'time' is not defined",
     "output_type": "error",
     "traceback": [
      "\u001B[1;31m---------------------------------------------------------------------------\u001B[0m",
      "\u001B[1;31mNameError\u001B[0m                                 Traceback (most recent call last)",
      "Cell \u001B[1;32mIn[2], line 1\u001B[0m\n\u001B[1;32m----> 1\u001B[0m \u001B[43mtime\u001B[49m\u001B[38;5;241m.\u001B[39msleep(\u001B[38;5;241m5\u001B[39m)  \u001B[38;5;66;03m# time to load the page\u001B[39;00m\n\u001B[0;32m      3\u001B[0m \u001B[38;5;66;03m# Selecting year\u001B[39;00m\n\u001B[0;32m      4\u001B[0m select_year \u001B[38;5;241m=\u001B[39m driver\u001B[38;5;241m.\u001B[39mfind_element(By\u001B[38;5;241m.\u001B[39mID, \u001B[38;5;124m\"\u001B[39m\u001B[38;5;124mdoctorYear\u001B[39m\u001B[38;5;124m\"\u001B[39m)\n",
      "\u001B[1;31mNameError\u001B[0m: name 'time' is not defined"
     ]
    }
   ],
   "source": [
    "time.sleep(5)  # time to load the page\n",
    "\n",
    "# Selecting year\n",
    "select_year = driver.find_element(By.ID, \"doctorYear\")\n",
    "select = Select(select_year)\n",
    "year = driver.find_element(By.XPATH, '//*[@id=\"doctorYear\"]/option[4]')\n",
    "driver.execute_script('arguments[0].setAttribute(\"style\",\"display:block;\");', select_year)\n",
    "select.select_by_visible_text('2020')"
   ]
  },
  {
   "cell_type": "markdown",
   "source": [
    "#### Selecting State"
   ],
   "metadata": {
    "collapsed": false
   },
   "id": "a81100efe56d4feb"
  },
  {
   "cell_type": "code",
   "execution_count": null,
   "id": "9e0fe34b8d1ab5a0",
   "metadata": {
    "collapsed": false
   },
   "outputs": [],
   "source": [
    "# Selecting state\n",
    "select_state = driver.find_element(By.ID, \"advsmcId\")\n",
    "select = Select(select_state)\n",
    "bihar_state = driver.find_element(By.XPATH, '//*[@id=\"advsmcId\"]/option[6]')\n",
    "driver.execute_script('arguments[0].setAttribute(\"style\",\"display:block;\");', select_state)\n",
    "select.select_by_value('4')"
   ]
  },
  {
   "cell_type": "markdown",
   "source": [
    "### Clicking submit button to get the table data"
   ],
   "metadata": {
    "collapsed": false
   },
   "id": "7b082f3a029ed481"
  },
  {
   "cell_type": "code",
   "execution_count": null,
   "id": "1c0e0e04fa2b3367",
   "metadata": {
    "collapsed": false
   },
   "outputs": [],
   "source": [
    "submit = driver.find_element(By.ID, \"doctor_advance_Details\")\n",
    "submit.click()\n",
    "time.sleep(5)"
   ]
  },
  {
   "cell_type": "markdown",
   "id": "6ad84d586eacf6e9",
   "metadata": {
    "collapsed": false
   },
   "source": [
    "# Get web page"
   ]
  },
  {
   "cell_type": "code",
   "execution_count": null,
   "id": "3543fbbafdf4011f",
   "metadata": {
    "collapsed": false
   },
   "outputs": [],
   "source": [
    "all_doctors = []\n",
    "# looping to get all webpages if the table is split into multiple pages\n",
    "while True:\n",
    "    # getting webpage source current page\n",
    "    webpage = driver.page_source\n",
    "    # converting using StringIO because direct parsing is depreciated\n",
    "    df = pd.read_html(StringIO(webpage))\n",
    "    all_doctors.append(df[-1]) # appending to list\n",
    "    \n",
    "    # checking if next button is disabled\n",
    "    # if disabled break out of loop\n",
    "    # otherwise click next button and wait for 5 seconds to go to next page\n",
    "    next_button = driver.find_element(By.ID, \"doct_info5_next\")\n",
    "    classes = next_button.get_attribute('class')\n",
    "    if 'disabled' in classes:\n",
    "        break\n",
    "    else:\n",
    "        next_button.click()\n",
    "        time.sleep(5)"
   ]
  },
  {
   "cell_type": "markdown",
   "source": [
    "## Close the driver"
   ],
   "metadata": {
    "collapsed": false
   },
   "id": "bf8691ab48aa54f1"
  },
  {
   "cell_type": "code",
   "execution_count": null,
   "outputs": [],
   "source": [
    "driver.quit()"
   ],
   "metadata": {
    "collapsed": false
   },
   "id": "63c7b7e7faa44d2b"
  },
  {
   "cell_type": "markdown",
   "source": [
    "# Processing all data and convert to csv"
   ],
   "metadata": {
    "collapsed": false
   },
   "id": "7991eaeb57099394"
  },
  {
   "cell_type": "code",
   "execution_count": null,
   "id": "5dc1b062d8614103",
   "metadata": {
    "collapsed": false
   },
   "outputs": [],
   "source": [
    "# combining all_doctors dataframes\n",
    "all_doctors_df = pd.concat(all_doctors, axis=0)\n",
    "all_doctors_df.to_csv('all_doctors.csv', index=False, columns=['Sl. No.', 'Year of Info', 'Registration Number', 'State Medical Councils', 'Name', 'Father Name'])"
   ]
  }
 ],
 "metadata": {
  "kernelspec": {
   "display_name": "Python 3 (ipykernel)",
   "language": "python",
   "name": "python3"
  },
  "language_info": {
   "codemirror_mode": {
    "name": "ipython",
    "version": 3
   },
   "file_extension": ".py",
   "mimetype": "text/x-python",
   "name": "python",
   "nbconvert_exporter": "python",
   "pygments_lexer": "ipython3",
   "version": "3.11.2"
  }
 },
 "nbformat": 4,
 "nbformat_minor": 5
}

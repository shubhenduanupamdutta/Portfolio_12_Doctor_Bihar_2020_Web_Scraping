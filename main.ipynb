{
 "cells": [
  {
   "cell_type": "markdown",
   "id": "8f0529f827952ff",
   "metadata": {
    "collapsed": false
   },
   "source": [
    "## Writing this program in ipython notebook, since it is easy to visualize the results and stop after a step with data in memory.."
   ]
  },
  {
   "cell_type": "markdown",
   "id": "cff884c22928eabd",
   "metadata": {
    "collapsed": false
   },
   "source": [
    "### Importing necessary modules"
   ]
  },
  {
   "cell_type": "code",
   "execution_count": null,
   "id": "c849a4560aa5f2cb",
   "metadata": {
    "collapsed": false
   },
   "outputs": [],
   "source": [
    "import time\n",
    "from selenium import webdriver\n",
    "from selenium.webdriver.chrome.service import Service\n",
    "from webdriver_manager.chrome import ChromeDriverManager\n",
    "from selenium.webdriver.common.by import By\n",
    "from selenium.webdriver.support.select import Select\n",
    "import pandas as pd\n",
    "from io import StringIO"
   ]
  },
  {
   "cell_type": "markdown",
   "id": "9c9a5c78286b98e6",
   "metadata": {
    "collapsed": false
   },
   "source": [
    "## URL for indian medical register"
   ]
  },
  {
   "cell_type": "code",
   "execution_count": null,
   "id": "cb468dd8d6ad0fdc",
   "metadata": {
    "collapsed": false
   },
   "outputs": [],
   "source": [
    "url = \"https://www.nmc.org.in/information-desk/indian-medical-register/\""
   ]
  },
  {
   "cell_type": "markdown",
   "id": "29ce28bc168d2700",
   "metadata": {
    "collapsed": false
   },
   "source": [
    "### Starting the driver"
   ]
  },
  {
   "cell_type": "code",
   "execution_count": null,
   "id": "a2f53d79958a322c",
   "metadata": {
    "collapsed": false
   },
   "outputs": [],
   "source": [
    "service = Service(ChromeDriverManager().install())\n",
    "driver = webdriver.Chrome(service=service)\n",
    "driver.get(url)\n",
    "driver.maximize_window()"
   ]
  },
  {
   "cell_type": "markdown",
   "id": "213b845e1bf1291c",
   "metadata": {
    "collapsed": false
   },
   "source": [
    "### Getting the table containing doctors name and data"
   ]
  },
  {
   "cell_type": "code",
   "execution_count": null,
   "outputs": [],
   "source": [
    "#### Selecting Year"
   ],
   "metadata": {
    "collapsed": false
   },
   "id": "4e90731c97e66a1b"
  },
  {
   "cell_type": "code",
   "execution_count": null,
   "id": "e97702744c4f8a31",
   "metadata": {
    "collapsed": false
   },
   "outputs": [],
   "source": [
    "time.sleep(5)  # time to load the page\n",
    "select_year = driver.find_element(By.ID, \"doctorYear\")\n",
    "select = Select(select_year)\n",
    "year = driver.find_element(By.XPATH, '//*[@id=\"doctorYear\"]/option[4]')\n",
    "driver.execute_script('arguments[0].setAttribute(\"style\",\"display:block;\");', select_year)\n",
    "select.select_by_visible_text('2020')"
   ]
  },
  {
   "cell_type": "markdown",
   "source": [
    "#### Selecting state"
   ],
   "metadata": {
    "collapsed": false
   },
   "id": "4e9ffe651a243ba9"
  },
  {
   "cell_type": "code",
   "execution_count": null,
   "id": "dfe69c90d90504d2",
   "metadata": {
    "collapsed": false
   },
   "outputs": [],
   "source": [
    "# Selecting state\n",
    "select_state = driver.find_element(By.ID, \"advsmcId\")\n",
    "select = Select(select_state)\n",
    "bihar_state = driver.find_element(By.XPATH, '//*[@id=\"advsmcId\"]/option[6]')\n",
    "driver.execute_script('arguments[0].setAttribute(\"style\",\"display:block;\");', select_state)\n",
    "select.select_by_value('4')"
   ]
  },
  {
   "cell_type": "markdown",
   "source": [
    "#### Clicking Submit button to get_data"
   ],
   "metadata": {
    "collapsed": false
   },
   "id": "f0741fe7ad04c6e5"
  },
  {
   "cell_type": "code",
   "execution_count": null,
   "id": "1c0e0e04fa2b3367",
   "metadata": {
    "collapsed": false
   },
   "outputs": [],
   "source": [
    "submit = driver.find_element(By.ID, \"doctor_advance_Details\")\n",
    "submit.click()\n",
    "time.sleep(5)"
   ]
  },
  {
   "cell_type": "markdown",
   "id": "6ad84d586eacf6e9",
   "metadata": {
    "collapsed": false
   },
   "source": [
    "## Get the data"
   ]
  },
  {
   "cell_type": "code",
   "execution_count": null,
   "id": "3543fbbafdf4011f",
   "metadata": {
    "collapsed": false
   },
   "outputs": [],
   "source": [
    "all_doctors = []\n",
    "while True:\n",
    "    # Get current status of webpage\n",
    "    webpage = driver.page_source\n",
    "    # Wrapping in StringIO because direct parsing is depreciated\n",
    "    df = pd.read_html(StringIO(webpage))\n",
    "    all_doctors.append(df[-1])\n",
    "    \n",
    "    # Finding and clicking next button if needed\n",
    "    next_button = driver.find_element(By.ID, \"doct_info5_next\")\n",
    "    classes = next_button.get_attribute('class')\n",
    "    if 'disabled' in classes:\n",
    "        break\n",
    "    else:\n",
    "        next_button.click()\n",
    "        time.sleep(5)"
   ]
  },
  {
   "cell_type": "markdown",
   "source": [
    "## Quitting driver"
   ],
   "metadata": {
    "collapsed": false
   },
   "id": "78b474e62e0f6e1d"
  },
  {
   "cell_type": "code",
   "execution_count": null,
   "outputs": [],
   "source": [
    "driver.quit()"
   ],
   "metadata": {
    "collapsed": false
   },
   "id": "500c45a51d8bad15"
  },
  {
   "cell_type": "markdown",
   "source": [
    "# Combining all data, and saving it to csv"
   ],
   "metadata": {
    "collapsed": false
   },
   "id": "7ceb68bc7323a41b"
  },
  {
   "cell_type": "code",
   "execution_count": null,
   "id": "5dc1b062d8614103",
   "metadata": {
    "collapsed": false
   },
   "outputs": [],
   "source": [
    "# combining all_doctors\n",
    "all_doctors_df = pd.concat(all_doctors, axis=0)\n",
    "all_doctors_df.to_csv('all_doctors.csv', index=False, columns=['Sl. No.', 'Year of Info', 'Registration Number', 'State Medical Councils', 'Name', 'Father Name'])"
   ]
  },
  {
   "cell_type": "code",
   "execution_count": null,
   "outputs": [],
   "source": [],
   "metadata": {
    "collapsed": false
   },
   "id": "3faa9e7d32a20f34"
  }
 ],
 "metadata": {
  "kernelspec": {
   "display_name": "Python 3 (ipykernel)",
   "language": "python",
   "name": "python3"
  },
  "language_info": {
   "codemirror_mode": {
    "name": "ipython",
    "version": 3
   },
   "file_extension": ".py",
   "mimetype": "text/x-python",
   "name": "python",
   "nbconvert_exporter": "python",
   "pygments_lexer": "ipython3",
   "version": "3.11.2"
  }
 },
 "nbformat": 4,
 "nbformat_minor": 5
}

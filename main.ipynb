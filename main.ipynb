{
 "cells": [
  {
   "cell_type": "markdown",
   "source": [
    "## Writing this program in ipython notebook, since it is easy to visualize the results and stop after a step with data in memory.."
   ],
   "metadata": {
    "collapsed": false
   },
   "id": "8f0529f827952ff"
  },
  {
   "cell_type": "markdown",
   "source": [
    "### Importing necessary modules"
   ],
   "metadata": {
    "collapsed": false
   },
   "id": "cff884c22928eabd"
  },
  {
   "cell_type": "code",
   "execution_count": 1,
   "outputs": [],
   "source": [
    "import time\n",
    "from selenium import webdriver\n",
    "from selenium.webdriver.chrome.service import Service\n",
    "from webdriver_manager.chrome import ChromeDriverManager\n",
    "from selenium.webdriver.common.action_chains import ActionChains\n",
    "from selenium.webdriver.common.by import By\n",
    "from selenium.webdriver.common.keys import Keys\n",
    "from selenium.webdriver.support.select import Select\n",
    "from bs4 import BeautifulSoup"
   ],
   "metadata": {
    "collapsed": false,
    "ExecuteTime": {
     "end_time": "2023-10-05T13:35:46.202136800Z",
     "start_time": "2023-10-05T13:35:45.683293700Z"
    }
   },
   "id": "c849a4560aa5f2cb"
  },
  {
   "cell_type": "markdown",
   "source": [
    "## URL for indian medical register"
   ],
   "metadata": {
    "collapsed": false
   },
   "id": "9c9a5c78286b98e6"
  },
  {
   "cell_type": "code",
   "execution_count": 2,
   "outputs": [],
   "source": [
    "url = \"https://www.nmc.org.in/information-desk/indian-medical-register/\""
   ],
   "metadata": {
    "collapsed": false,
    "ExecuteTime": {
     "end_time": "2023-10-05T13:35:50.970286400Z",
     "start_time": "2023-10-05T13:35:50.939032800Z"
    }
   },
   "id": "cb468dd8d6ad0fdc"
  },
  {
   "cell_type": "markdown",
   "source": [
    "### Starting the driver"
   ],
   "metadata": {
    "collapsed": false
   },
   "id": "29ce28bc168d2700"
  },
  {
   "cell_type": "code",
   "execution_count": 3,
   "outputs": [],
   "source": [
    "service = Service(ChromeDriverManager().install())\n",
    "driver = webdriver.Chrome(service=service)\n",
    "driver.get(url)\n",
    "driver.maximize_window()"
   ],
   "metadata": {
    "collapsed": false,
    "ExecuteTime": {
     "end_time": "2023-10-05T13:36:04.817777900Z",
     "start_time": "2023-10-05T13:35:52.106565400Z"
    }
   },
   "id": "a2f53d79958a322c"
  },
  {
   "cell_type": "markdown",
   "source": [
    "### Getting the table containing doctors name and data"
   ],
   "metadata": {
    "collapsed": false
   },
   "id": "213b845e1bf1291c"
  },
  {
   "cell_type": "code",
   "execution_count": 4,
   "outputs": [],
   "source": [
    "time.sleep(5)  # time to load the page\n",
    "select_year = driver.find_element(By.ID, \"doctorYear\")\n",
    "select = Select(select_year)"
   ],
   "metadata": {
    "collapsed": false,
    "ExecuteTime": {
     "end_time": "2023-10-05T13:36:17.963029500Z",
     "start_time": "2023-10-05T13:36:12.930602500Z"
    }
   },
   "id": "e97702744c4f8a31"
  },
  {
   "cell_type": "code",
   "execution_count": 5,
   "outputs": [],
   "source": [
    "year = driver.find_element(By.XPATH, '//*[@id=\"doctorYear\"]/option[4]')\n",
    "driver.execute_script('arguments[0].setAttribute(\"style\",\"display:block;\");', select_year)"
   ],
   "metadata": {
    "collapsed": false,
    "ExecuteTime": {
     "end_time": "2023-10-05T13:36:20.143096800Z",
     "start_time": "2023-10-05T13:36:20.089444600Z"
    }
   },
   "id": "f6b2ab8f46154db8"
  },
  {
   "cell_type": "code",
   "execution_count": 6,
   "outputs": [],
   "source": [
    "select.select_by_visible_text('2020')"
   ],
   "metadata": {
    "collapsed": false,
    "ExecuteTime": {
     "end_time": "2023-10-05T13:36:40.210750Z",
     "start_time": "2023-10-05T13:36:40.113447100Z"
    }
   },
   "id": "9e0fe34b8d1ab5a0"
  },
  {
   "cell_type": "code",
   "execution_count": 8,
   "outputs": [],
   "source": [
    "# Selecting state\n",
    "select_state = driver.find_element(By.ID, \"advsmcId\")\n",
    "select = Select(select_state)\n",
    "bihar_state = driver.find_element(By.XPATH, '//*[@id=\"advsmcId\"]/option[6]')\n",
    "driver.execute_script('arguments[0].setAttribute(\"style\",\"display:block;\");', select_state)\n",
    "select.select_by_value('4')"
   ],
   "metadata": {
    "collapsed": false,
    "ExecuteTime": {
     "end_time": "2023-10-05T13:39:43.326185100Z",
     "start_time": "2023-10-05T13:39:43.180055600Z"
    }
   },
   "id": "dfe69c90d90504d2"
  },
  {
   "cell_type": "code",
   "execution_count": 9,
   "outputs": [],
   "source": [
    "submit = driver.find_element(By.ID, \"doctor_advance_Details\")\n",
    "submit.click()\n",
    "time.sleep(5)"
   ],
   "metadata": {
    "collapsed": false,
    "ExecuteTime": {
     "end_time": "2023-10-05T13:40:52.909974600Z",
     "start_time": "2023-10-05T13:40:47.708441200Z"
    }
   },
   "id": "1c0e0e04fa2b3367"
  },
  {
   "cell_type": "markdown",
   "source": [
    "# Get web page"
   ],
   "metadata": {
    "collapsed": false
   },
   "id": "6ad84d586eacf6e9"
  },
  {
   "cell_type": "code",
   "execution_count": 17,
   "outputs": [],
   "source": [
    "from io import StringIO\n",
    "import pandas as pd\n",
    "all_doctors = []\n",
    "while True:\n",
    "    webpage = driver.page_source\n",
    "    df = pd.read_html(StringIO(webpage))\n",
    "    all_doctors.append(df[-1])\n",
    "    \n",
    "    next_button = driver.find_element(By.ID, \"doct_info5_next\")\n",
    "    classes = next_button.get_attribute('class')\n",
    "    if 'disabled' in classes:\n",
    "        break\n",
    "    else:\n",
    "        next_button.click()\n",
    "        time.sleep(5)"
   ],
   "metadata": {
    "collapsed": false,
    "ExecuteTime": {
     "end_time": "2023-10-05T13:58:54.324046700Z",
     "start_time": "2023-10-05T13:58:42.707780100Z"
    }
   },
   "id": "3543fbbafdf4011f"
  },
  {
   "cell_type": "code",
   "execution_count": 19,
   "outputs": [
    {
     "data": {
      "text/plain": "     Sl. No.  Year of Info Registration Number State Medical Councils  \\\n0          1          2020               49211  Bihar Medical Council   \n1          2          2020               49212  Bihar Medical Council   \n2          3          2020               49213  Bihar Medical Council   \n3          4          2020               49214  Bihar Medical Council   \n4          5          2020               49215  Bihar Medical Council   \n..       ...           ...                 ...                    ...   \n495      496          2020               49725  Bihar Medical Council   \n496      497          2020               49726  Bihar Medical Council   \n497      498          2020               49727  Bihar Medical Council   \n498      499          2020               49728  Bihar Medical Council   \n499      500          2020               49729  Bihar Medical Council   \n\n                   Name                Father Name Action  \n0       Md.Shabbir Alam           S/o Md.Aayub Ali   View  \n1       KM Kaneez Fatma          D/o Mrs Abu Zafar   View  \n2         Sabina Yasmin           D/o Abul Hussain   View  \n3         Aaditya Jolly  D/o Dr. Brij Bihari Singh   View  \n4          Saher Fatma`           D/o Afi Siddiqui   View  \n..                  ...                        ...    ...  \n495    Vishwajeet Kumar         S/o Surendra Singh   View  \n496        Sanjeeda ali               D/o Md yusuf   View  \n497         Rishu Kumar    S/o Kamlesh Kumar Singh   View  \n498  Hemant Kumar Suman    S/o Hari Narayan Paswan   View  \n499  Amresh Kumar Gupta     S/o Dharam Nath Prasad   View  \n\n[500 rows x 7 columns]",
      "text/html": "<div>\n<style scoped>\n    .dataframe tbody tr th:only-of-type {\n        vertical-align: middle;\n    }\n\n    .dataframe tbody tr th {\n        vertical-align: top;\n    }\n\n    .dataframe thead th {\n        text-align: right;\n    }\n</style>\n<table border=\"1\" class=\"dataframe\">\n  <thead>\n    <tr style=\"text-align: right;\">\n      <th></th>\n      <th>Sl. No.</th>\n      <th>Year of Info</th>\n      <th>Registration Number</th>\n      <th>State Medical Councils</th>\n      <th>Name</th>\n      <th>Father Name</th>\n      <th>Action</th>\n    </tr>\n  </thead>\n  <tbody>\n    <tr>\n      <th>0</th>\n      <td>1</td>\n      <td>2020</td>\n      <td>49211</td>\n      <td>Bihar Medical Council</td>\n      <td>Md.Shabbir Alam</td>\n      <td>S/o Md.Aayub Ali</td>\n      <td>View</td>\n    </tr>\n    <tr>\n      <th>1</th>\n      <td>2</td>\n      <td>2020</td>\n      <td>49212</td>\n      <td>Bihar Medical Council</td>\n      <td>KM Kaneez Fatma</td>\n      <td>D/o Mrs Abu Zafar</td>\n      <td>View</td>\n    </tr>\n    <tr>\n      <th>2</th>\n      <td>3</td>\n      <td>2020</td>\n      <td>49213</td>\n      <td>Bihar Medical Council</td>\n      <td>Sabina Yasmin</td>\n      <td>D/o Abul Hussain</td>\n      <td>View</td>\n    </tr>\n    <tr>\n      <th>3</th>\n      <td>4</td>\n      <td>2020</td>\n      <td>49214</td>\n      <td>Bihar Medical Council</td>\n      <td>Aaditya Jolly</td>\n      <td>D/o Dr. Brij Bihari Singh</td>\n      <td>View</td>\n    </tr>\n    <tr>\n      <th>4</th>\n      <td>5</td>\n      <td>2020</td>\n      <td>49215</td>\n      <td>Bihar Medical Council</td>\n      <td>Saher Fatma`</td>\n      <td>D/o Afi Siddiqui</td>\n      <td>View</td>\n    </tr>\n    <tr>\n      <th>...</th>\n      <td>...</td>\n      <td>...</td>\n      <td>...</td>\n      <td>...</td>\n      <td>...</td>\n      <td>...</td>\n      <td>...</td>\n    </tr>\n    <tr>\n      <th>495</th>\n      <td>496</td>\n      <td>2020</td>\n      <td>49725</td>\n      <td>Bihar Medical Council</td>\n      <td>Vishwajeet Kumar</td>\n      <td>S/o Surendra Singh</td>\n      <td>View</td>\n    </tr>\n    <tr>\n      <th>496</th>\n      <td>497</td>\n      <td>2020</td>\n      <td>49726</td>\n      <td>Bihar Medical Council</td>\n      <td>Sanjeeda ali</td>\n      <td>D/o Md yusuf</td>\n      <td>View</td>\n    </tr>\n    <tr>\n      <th>497</th>\n      <td>498</td>\n      <td>2020</td>\n      <td>49727</td>\n      <td>Bihar Medical Council</td>\n      <td>Rishu Kumar</td>\n      <td>S/o Kamlesh Kumar Singh</td>\n      <td>View</td>\n    </tr>\n    <tr>\n      <th>498</th>\n      <td>499</td>\n      <td>2020</td>\n      <td>49728</td>\n      <td>Bihar Medical Council</td>\n      <td>Hemant Kumar Suman</td>\n      <td>S/o Hari Narayan Paswan</td>\n      <td>View</td>\n    </tr>\n    <tr>\n      <th>499</th>\n      <td>500</td>\n      <td>2020</td>\n      <td>49729</td>\n      <td>Bihar Medical Council</td>\n      <td>Amresh Kumar Gupta</td>\n      <td>S/o Dharam Nath Prasad</td>\n      <td>View</td>\n    </tr>\n  </tbody>\n</table>\n<p>500 rows × 7 columns</p>\n</div>"
     },
     "execution_count": 19,
     "metadata": {},
     "output_type": "execute_result"
    }
   ],
   "source": [
    "all_doctors[0]"
   ],
   "metadata": {
    "collapsed": false,
    "ExecuteTime": {
     "end_time": "2023-10-05T14:00:27.867506600Z",
     "start_time": "2023-10-05T14:00:27.848682700Z"
    }
   },
   "id": "359779f66c4aeb2a"
  },
  {
   "cell_type": "code",
   "execution_count": 20,
   "outputs": [
    {
     "data": {
      "text/plain": "     Sl. No.  Year of Info Registration Number State Medical Councils  \\\n0          1          2020               49211  Bihar Medical Council   \n1          2          2020               49212  Bihar Medical Council   \n2          3          2020               49213  Bihar Medical Council   \n3          4          2020               49214  Bihar Medical Council   \n4          5          2020               49215  Bihar Medical Council   \n..       ...           ...                 ...                    ...   \n456     1457          2020               50725  Bihar Medical Council   \n457     1458          2020               50726  Bihar Medical Council   \n458     1459          2020               50727  Bihar Medical Council   \n459     1460          2020               50730  Bihar Medical Council   \n460     1461          2020               50731  Bihar Medical Council   \n\n                        Name                Father Name Action  \n0            Md.Shabbir Alam           S/o Md.Aayub Ali   View  \n1            KM Kaneez Fatma          D/o Mrs Abu Zafar   View  \n2              Sabina Yasmin           D/o Abul Hussain   View  \n3              Aaditya Jolly  D/o Dr. Brij Bihari Singh   View  \n4               Saher Fatma`           D/o Afi Siddiqui   View  \n..                       ...                        ...    ...  \n456            Vibhash Kumar           S/o Angad Sharma   View  \n457       Subodh Kumar Singh            S/o Badri Singh   View  \n458  Depak Kumar Vishwakarma    S/o Jagdish Vishwakarma   View  \n459           Shivang Bharti       S/O Om Prakash Gupta   View  \n460               Ravi Kumar         S/o Brajesh Prasad   View  \n\n[1461 rows x 7 columns]",
      "text/html": "<div>\n<style scoped>\n    .dataframe tbody tr th:only-of-type {\n        vertical-align: middle;\n    }\n\n    .dataframe tbody tr th {\n        vertical-align: top;\n    }\n\n    .dataframe thead th {\n        text-align: right;\n    }\n</style>\n<table border=\"1\" class=\"dataframe\">\n  <thead>\n    <tr style=\"text-align: right;\">\n      <th></th>\n      <th>Sl. No.</th>\n      <th>Year of Info</th>\n      <th>Registration Number</th>\n      <th>State Medical Councils</th>\n      <th>Name</th>\n      <th>Father Name</th>\n      <th>Action</th>\n    </tr>\n  </thead>\n  <tbody>\n    <tr>\n      <th>0</th>\n      <td>1</td>\n      <td>2020</td>\n      <td>49211</td>\n      <td>Bihar Medical Council</td>\n      <td>Md.Shabbir Alam</td>\n      <td>S/o Md.Aayub Ali</td>\n      <td>View</td>\n    </tr>\n    <tr>\n      <th>1</th>\n      <td>2</td>\n      <td>2020</td>\n      <td>49212</td>\n      <td>Bihar Medical Council</td>\n      <td>KM Kaneez Fatma</td>\n      <td>D/o Mrs Abu Zafar</td>\n      <td>View</td>\n    </tr>\n    <tr>\n      <th>2</th>\n      <td>3</td>\n      <td>2020</td>\n      <td>49213</td>\n      <td>Bihar Medical Council</td>\n      <td>Sabina Yasmin</td>\n      <td>D/o Abul Hussain</td>\n      <td>View</td>\n    </tr>\n    <tr>\n      <th>3</th>\n      <td>4</td>\n      <td>2020</td>\n      <td>49214</td>\n      <td>Bihar Medical Council</td>\n      <td>Aaditya Jolly</td>\n      <td>D/o Dr. Brij Bihari Singh</td>\n      <td>View</td>\n    </tr>\n    <tr>\n      <th>4</th>\n      <td>5</td>\n      <td>2020</td>\n      <td>49215</td>\n      <td>Bihar Medical Council</td>\n      <td>Saher Fatma`</td>\n      <td>D/o Afi Siddiqui</td>\n      <td>View</td>\n    </tr>\n    <tr>\n      <th>...</th>\n      <td>...</td>\n      <td>...</td>\n      <td>...</td>\n      <td>...</td>\n      <td>...</td>\n      <td>...</td>\n      <td>...</td>\n    </tr>\n    <tr>\n      <th>456</th>\n      <td>1457</td>\n      <td>2020</td>\n      <td>50725</td>\n      <td>Bihar Medical Council</td>\n      <td>Vibhash Kumar</td>\n      <td>S/o Angad Sharma</td>\n      <td>View</td>\n    </tr>\n    <tr>\n      <th>457</th>\n      <td>1458</td>\n      <td>2020</td>\n      <td>50726</td>\n      <td>Bihar Medical Council</td>\n      <td>Subodh Kumar Singh</td>\n      <td>S/o Badri Singh</td>\n      <td>View</td>\n    </tr>\n    <tr>\n      <th>458</th>\n      <td>1459</td>\n      <td>2020</td>\n      <td>50727</td>\n      <td>Bihar Medical Council</td>\n      <td>Depak Kumar Vishwakarma</td>\n      <td>S/o Jagdish Vishwakarma</td>\n      <td>View</td>\n    </tr>\n    <tr>\n      <th>459</th>\n      <td>1460</td>\n      <td>2020</td>\n      <td>50730</td>\n      <td>Bihar Medical Council</td>\n      <td>Shivang Bharti</td>\n      <td>S/O Om Prakash Gupta</td>\n      <td>View</td>\n    </tr>\n    <tr>\n      <th>460</th>\n      <td>1461</td>\n      <td>2020</td>\n      <td>50731</td>\n      <td>Bihar Medical Council</td>\n      <td>Ravi Kumar</td>\n      <td>S/o Brajesh Prasad</td>\n      <td>View</td>\n    </tr>\n  </tbody>\n</table>\n<p>1461 rows × 7 columns</p>\n</div>"
     },
     "execution_count": 20,
     "metadata": {},
     "output_type": "execute_result"
    }
   ],
   "source": [
    "# combining all_doctors\n",
    "all_doctors_df = pd.concat(all_doctors, axis=0)\n",
    "all_doctors_df"
   ],
   "metadata": {
    "collapsed": false,
    "ExecuteTime": {
     "end_time": "2023-10-05T14:01:41.193868900Z",
     "start_time": "2023-10-05T14:01:41.119955800Z"
    }
   },
   "id": "5dc1b062d8614103"
  },
  {
   "cell_type": "code",
   "execution_count": 23,
   "outputs": [
    {
     "data": {
      "text/plain": "Index(['Sl. No.', 'Year of Info', 'Registration Number',\n       'State Medical Councils', 'Name', 'Father Name', 'Action'],\n      dtype='object')"
     },
     "execution_count": 23,
     "metadata": {},
     "output_type": "execute_result"
    }
   ],
   "source": [
    "all_doctors_df.columns"
   ],
   "metadata": {
    "collapsed": false,
    "ExecuteTime": {
     "end_time": "2023-10-05T14:06:02.491653500Z",
     "start_time": "2023-10-05T14:06:02.470628200Z"
    }
   },
   "id": "8258b253c2e0b9d5"
  },
  {
   "cell_type": "code",
   "execution_count": 24,
   "outputs": [],
   "source": [
    "all_doctors_df.to_csv('all_doctors.csv', index=False, columns=['Sl. No.', 'Year of Info', 'Registration Number', 'State Medical Councils', 'Name', 'Father Name'])"
   ],
   "metadata": {
    "collapsed": false,
    "ExecuteTime": {
     "end_time": "2023-10-05T14:06:09.919606300Z",
     "start_time": "2023-10-05T14:06:09.903476200Z"
    }
   },
   "id": "567db6c10dfe6997"
  },
  {
   "cell_type": "code",
   "execution_count": null,
   "outputs": [],
   "source": [
    "driver.quit()"
   ],
   "metadata": {
    "collapsed": false
   },
   "id": "6dba0870c8cc409d"
  }
 ],
 "metadata": {
  "kernelspec": {
   "display_name": "Python 3",
   "language": "python",
   "name": "python3"
  },
  "language_info": {
   "codemirror_mode": {
    "name": "ipython",
    "version": 2
   },
   "file_extension": ".py",
   "mimetype": "text/x-python",
   "name": "python",
   "nbconvert_exporter": "python",
   "pygments_lexer": "ipython2",
   "version": "2.7.6"
  }
 },
 "nbformat": 4,
 "nbformat_minor": 5
}
